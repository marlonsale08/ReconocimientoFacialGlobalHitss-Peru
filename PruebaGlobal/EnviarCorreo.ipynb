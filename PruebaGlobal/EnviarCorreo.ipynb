{
 "cells": [
  {
   "cell_type": "markdown",
   "metadata": {},
   "source": [
    "# ENVIAR CORREO CON TEXTO Y FOTOS"
   ]
  },
  {
   "cell_type": "code",
   "execution_count": 1,
   "metadata": {},
   "outputs": [
    {
     "name": "stdout",
     "output_type": "stream",
     "text": [
      "Envio de correo exitoso marlonsale08@gmail.com:\n",
      "Envio de correo exitoso marlonsale08@gmail.com:\n"
     ]
    }
   ],
   "source": [
    "from email.mime.multipart import MIMEMultipart\n",
    "from email.mime.text import MIMEText\n",
    "from email.mime.image import MIMEImage\n",
    "import smtplib\n",
    "import cv2\n",
    "\n",
    "def EnviarMensajeTexto(mensaje=None,correoFrom=None,correoTo=None,subject=None):\n",
    "    # crear el objeto del mensaje\n",
    "    msg = MIMEMultipart()\n",
    "\n",
    "    # configurar mensaje\n",
    "    password = \"vergaramarlon12\"\n",
    "    msg['From'] = correoFrom\n",
    "    msg['To'] = correoTo\n",
    "    msg['Subject'] = subject\n",
    "\n",
    "    #Cuerpo del mensaje\n",
    "    msg.attach(MIMEText(mensaje, 'plain'))\n",
    "\n",
    "    #Crear server\n",
    "    server = smtplib.SMTP('smtp.gmail.com: 587')\n",
    "\n",
    "    server.starttls()\n",
    "\n",
    "    #login server\n",
    "    server.login(msg['From'], password)\n",
    "\n",
    "    #enviar mensaje\n",
    "    server.sendmail(msg['From'], msg['To'], msg.as_string())\n",
    "\n",
    "    server.quit()\n",
    "\n",
    "    print (\"Envio de correo exitoso %s:\" % (msg['To']))\n",
    "\n",
    "def EnviarMensajeFoto(msgImage=None,correoFrom=None,correoTo=None,subject=None):\n",
    "\n",
    "    msg = MIMEMultipart()\n",
    "    \n",
    "  \n",
    "    password = \"vergaramarlon12\"\n",
    "    msg['From'] = correoFrom\n",
    "    msg['To'] = correoTo\n",
    "    msg['Subject'] = subject\n",
    "\n",
    "    # add in the message body\n",
    "    #fp = open('test.jpeg', 'rb')\n",
    "    #msgImage = MIMEImage(fp.read())\n",
    "    #fp.close()\n",
    "    #msg.attach(msgImage)\n",
    "    #fp.close()\n",
    "    \n",
    "    #msgImage=MIMEImage(img)\n",
    "    msg.attach(msgImage)\n",
    "\n",
    "    server = smtplib.SMTP('smtp.gmail.com: 587')\n",
    "\n",
    "    server.starttls()\n",
    "\n",
    "\n",
    "    server.login(msg['From'], password)\n",
    "\n",
    "    server.sendmail(msg['From'], msg['To'], msg.as_string())\n",
    "\n",
    "    server.quit()\n",
    "\n",
    "    print (\"Envio de correo exitoso %s:\" % (msg['To']))\n",
    "    \n",
    "if __name__==\"__main__\":\n",
    "    EnviarMensajeTexto(\"Se encontro una persona que no pertenece al STAFF de Hitss\",\"marlonsale08@gmail.com\",\"marlonsale08@gmail.com\",\"Persona Desconocida\")\n",
    "    fp=open('test2.jpg','rb')\n",
    "    msgImage=MIMEImage(fp.read())\n",
    "    EnviarMensajeFoto(msgImage,\"marlonsale08@gmail.com\",\"marlonsale08@gmail.com\",\"Persona Desconocida en Hitss\")"
   ]
  },
  {
   "cell_type": "markdown",
   "metadata": {},
   "source": [
    "# ENVIO DE IMAGEN POR EMAIL - METODO 2"
   ]
  },
  {
   "cell_type": "code",
   "execution_count": null,
   "metadata": {},
   "outputs": [],
   "source": [
    "# Send an HTML email with an embedded image and a plain text message for\n",
    "# email clients that don't want to display the HTML.\n",
    "\n",
    "from email.MIMEMultipart import MIMEMultipart\n",
    "from email.MIMEText import MIMEText\n",
    "from email.MIMEImage import MIMEImage\n",
    "\n",
    "# Define these once; use them twice!\n",
    "strFrom = 'marlonsale08@gmail.com'\n",
    "strTo = 'to@example.com'\n",
    "\n",
    "# Create the root message and fill in the from, to, and subject headers\n",
    "msgRoot = MIMEMultipart('related')\n",
    "msgRoot['Subject'] = 'test message'\n",
    "msgRoot['From'] = strFrom\n",
    "msgRoot['To'] = strTo\n",
    "msgRoot.preamble = 'This is a multi-part message in MIME format.'\n",
    "\n",
    "# Encapsulate the plain and HTML versions of the message body in an\n",
    "# 'alternative' part, so message agents can decide which they want to display.\n",
    "msgAlternative = MIMEMultipart('alternative')\n",
    "msgRoot.attach(msgAlternative)\n",
    "\n",
    "msgText = MIMEText('This is the alternative plain text message.')\n",
    "msgAlternative.attach(msgText)\n",
    "\n",
    "# We reference the image in the IMG SRC attribute by the ID we give it below\n",
    "#msgText = MIMEText('<b>Some <i>HTML</i> text</b> and an image.<br><img src=\"cid:image1\"><br>Nifty!', 'html')\n",
    "#msgAlternative.attach(msgText)\n",
    "\n",
    "# This example assumes the image is in the current directory\n",
    "fp = open('test.jpg', 'rb')\n",
    "msgImage = MIMEImage(fp.read())\n",
    "fp.close()\n",
    "\n",
    "# Define the image's ID as referenced above\n",
    "msgImage.add_header('Content-ID', '<image1>')\n",
    "msgRoot.attach(msgImage)\n",
    "\n",
    "# Send the email (this example assumes SMTP authentication is required)\n",
    "import smtplib\n",
    "smtp = smtplib.SMTP()\n",
    "smtp.connect('smtp.example.com')\n",
    "smtp.login('exampleuser', 'examplepass')\n",
    "smtp.sendmail(strFrom, strTo, msgRoot.as_string())\n",
    "smtp.quit()"
   ]
  },
  {
   "cell_type": "markdown",
   "metadata": {},
   "source": [
    "# SPEECH FELIZ CUMPLEAÑOS"
   ]
  },
  {
   "cell_type": "code",
   "execution_count": null,
   "metadata": {},
   "outputs": [],
   "source": [
    "Utilizar el speech de google en una array determinado "
   ]
  },
  {
   "cell_type": "markdown",
   "metadata": {},
   "source": [
    "# BASE DE DATOS MONGODB"
   ]
  },
  {
   "cell_type": "code",
   "execution_count": 19,
   "metadata": {},
   "outputs": [],
   "source": [
    "Desestimado - Lo mejor seria trabajarlo en carpetas a nivel local"
   ]
  },
  {
   "cell_type": "markdown",
   "metadata": {},
   "source": [
    "# ENVIAR MENSAJE AL WHATSAPP"
   ]
  },
  {
   "cell_type": "code",
   "execution_count": 30,
   "metadata": {},
   "outputs": [
    {
     "ename": "ModuleNotFoundError",
     "evalue": "No module named 'yowsup.layers'",
     "output_type": "error",
     "traceback": [
      "\u001b[0;31m---------------------------------------------------------------------------\u001b[0m",
      "\u001b[0;31mModuleNotFoundError\u001b[0m                       Traceback (most recent call last)",
      "\u001b[0;32m<ipython-input-30-a473a0298cb0>\u001b[0m in \u001b[0;36m<module>\u001b[0;34m\u001b[0m\n\u001b[0;32m----> 1\u001b[0;31m \u001b[0;32mfrom\u001b[0m \u001b[0myowsup\u001b[0m\u001b[0;34m.\u001b[0m\u001b[0mlayers\u001b[0m\u001b[0;34m.\u001b[0m\u001b[0minterface\u001b[0m \u001b[0;32mimport\u001b[0m \u001b[0mYowInterfaceLayer\u001b[0m\u001b[0;34m,\u001b[0m \u001b[0mProtocolEntityCallback\u001b[0m\u001b[0;34m\u001b[0m\u001b[0;34m\u001b[0m\u001b[0m\n\u001b[0m",
      "\u001b[0;31mModuleNotFoundError\u001b[0m: No module named 'yowsup.layers'"
     ]
    }
   ],
   "source": [
    "from yowsup.layers.interface import YowInterfaceLayer, ProtocolEntityCallback\n",
    "#en desarrollo"
   ]
  }
 ],
 "metadata": {
  "kernelspec": {
   "display_name": "Python 3",
   "language": "python",
   "name": "python3"
  },
  "language_info": {
   "codemirror_mode": {
    "name": "ipython",
    "version": 3
   },
   "file_extension": ".py",
   "mimetype": "text/x-python",
   "name": "python",
   "nbconvert_exporter": "python",
   "pygments_lexer": "ipython3",
   "version": "3.7.0"
  }
 },
 "nbformat": 4,
 "nbformat_minor": 2
}
