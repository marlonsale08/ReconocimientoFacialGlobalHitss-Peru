{
 "cells": [
  {
   "cell_type": "code",
   "execution_count": 1,
   "metadata": {},
   "outputs": [
    {
     "name": "stdout",
     "output_type": "stream",
     "text": [
      "1\n"
     ]
    }
   ],
   "source": [
    "one=1\n",
    "two=2\n",
    "tree=3\n",
    "some_number=1000\n",
    "True_boolean=True\n",
    "false_boolean=False\n",
    "my_name=\"Leandro TK\"\n",
    "print(one)\n",
    "import matplotlib\n",
    "import datetime"
   ]
  },
  {
   "cell_type": "code",
   "execution_count": 11,
   "metadata": {},
   "outputs": [
    {
     "name": "stdout",
     "output_type": "stream",
     "text": [
      "2\n"
     ]
    }
   ],
   "source": [
    "print(two)"
   ]
  },
  {
   "cell_type": "code",
   "execution_count": 17,
   "metadata": {},
   "outputs": [
    {
     "name": "stdout",
     "output_type": "stream",
     "text": [
      "HOLA MUNDO2018-11-28 15:16:24.330522\n",
      "HOLA MUNDO2018-11-28 15:16:24.334418\n",
      "HOLA MUNDO2018-11-28 15:16:24.334481\n",
      "HOLA MUNDO2018-11-28 15:16:24.334524\n",
      "HOLA MUNDO2018-11-28 15:16:24.334564\n",
      "HOLA MUNDO2018-11-28 15:16:24.334602\n",
      "HOLA MUNDO2018-11-28 15:16:24.334667\n",
      "HOLA MUNDO2018-11-28 15:16:24.334706\n",
      "HOLA MUNDO2018-11-28 15:16:24.334744\n",
      "HOLA MUNDO2018-11-28 15:16:24.334783\n"
     ]
    }
   ],
   "source": [
    "from datetime import datetime\n",
    "num=1\n",
    "while num<=10:\n",
    "        print(\"HOLA MUNDO\"+str(datetime.now()))\n",
    "        num+=1"
   ]
  },
  {
   "cell_type": "code",
   "execution_count": 19,
   "metadata": {},
   "outputs": [
    {
     "name": "stdout",
     "output_type": "stream",
     "text": [
      "1\n",
      "2\n",
      "3\n",
      "4\n",
      "5\n",
      "6\n",
      "7\n",
      "8\n",
      "9\n",
      "10\n"
     ]
    }
   ],
   "source": [
    "for i in range(1,11):\n",
    "    print(i)"
   ]
  },
  {
   "cell_type": "code",
   "execution_count": 20,
   "metadata": {},
   "outputs": [
    {
     "name": "stdout",
     "output_type": "stream",
     "text": [
      "[1, 2, 3, 4, 5, 6]\n"
     ]
    }
   ],
   "source": [
    "my_integers=[1,2,3,4,5,6]\n",
    "print(my_integers)"
   ]
  },
  {
   "cell_type": "code",
   "execution_count": 21,
   "metadata": {},
   "outputs": [],
   "source": [
    "my_integers.append(\"HOLA MUNDO\")"
   ]
  },
  {
   "cell_type": "code",
   "execution_count": 22,
   "metadata": {},
   "outputs": [
    {
     "name": "stdout",
     "output_type": "stream",
     "text": [
      "[1, 2, 3, 4, 5, 6, 'HOLA MUNDO']\n"
     ]
    }
   ],
   "source": [
    "print(my_integers)"
   ]
  },
  {
   "cell_type": "code",
   "execution_count": 23,
   "metadata": {},
   "outputs": [
    {
     "name": "stdout",
     "output_type": "stream",
     "text": [
      "6\n"
     ]
    }
   ],
   "source": [
    "print(my_integers[5])"
   ]
  },
  {
   "cell_type": "code",
   "execution_count": 30,
   "metadata": {},
   "outputs": [
    {
     "name": "stdout",
     "output_type": "stream",
     "text": [
      "555\n",
      "1110\n",
      "1665\n",
      "2220\n",
      "2775\n",
      "3330\n"
     ]
    }
   ],
   "source": [
    "i=0\n",
    "for i in range(0,6):\n",
    "    print(my_integers[i]*555)\n",
    "    i+=1"
   ]
  },
  {
   "cell_type": "code",
   "execution_count": 31,
   "metadata": {},
   "outputs": [
    {
     "name": "stdout",
     "output_type": "stream",
     "text": [
      "HORA DE LLAMAR\n"
     ]
    }
   ],
   "source": [
    "print(\"HORA DE LLAMAR\")"
   ]
  },
  {
   "cell_type": "code",
   "execution_count": 32,
   "metadata": {},
   "outputs": [],
   "source": [
    "dictionary_tk={\"name\":\"Leandro\",\"nacionalidad\":\"Peruana\",\"job\":\"data sicnetis\"}"
   ]
  },
  {
   "cell_type": "code",
   "execution_count": 33,
   "metadata": {},
   "outputs": [
    {
     "name": "stdout",
     "output_type": "stream",
     "text": [
      "Leandro\n"
     ]
    }
   ],
   "source": [
    "print(dictionary_tk[\"name\"])"
   ]
  },
  {
   "cell_type": "code",
   "execution_count": null,
   "metadata": {},
   "outputs": [],
   "source": []
  }
 ],
 "metadata": {
  "kernelspec": {
   "display_name": "Python 3",
   "language": "python",
   "name": "python3"
  },
  "language_info": {
   "codemirror_mode": {
    "name": "ipython",
    "version": 3
   },
   "file_extension": ".py",
   "mimetype": "text/x-python",
   "name": "python",
   "nbconvert_exporter": "python",
   "pygments_lexer": "ipython3",
   "version": "3.7.0"
  }
 },
 "nbformat": 4,
 "nbformat_minor": 2
}
