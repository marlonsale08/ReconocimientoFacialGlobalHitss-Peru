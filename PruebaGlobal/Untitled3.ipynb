{
 "cells": [
  {
   "cell_type": "code",
   "execution_count": 2,
   "metadata": {},
   "outputs": [
    {
     "ename": "SyntaxError",
     "evalue": "invalid syntax (<ipython-input-2-367855b89e43>, line 9)",
     "output_type": "error",
     "traceback": [
      "\u001b[0;36m  File \u001b[0;32m\"<ipython-input-2-367855b89e43>\"\u001b[0;36m, line \u001b[0;32m9\u001b[0m\n\u001b[0;31m    print \"Frame default resolution: (\" + str(cap.get(cv.CV_CAP_PROP_FRAME_WIDTH)) + \"; \" + str(cap.get(cv.CV_CAP_PROP_FRAME_HEIGHT)) + \")\"\u001b[0m\n\u001b[0m                                      ^\u001b[0m\n\u001b[0;31mSyntaxError\u001b[0m\u001b[0;31m:\u001b[0m invalid syntax\n"
     ]
    }
   ],
   "source": [
    "import sys \n",
    "sys.path.append(\"C:\\\\opencv\\\\build\\\\python\\\\2.7\") \n",
    "import cv2 \n",
    "import cv2.cv as cv \n",
    "import time \n",
    "\n",
    "# Set resolution \n",
    "cap = cv2.VideoCapture(0) \n",
    "print \"Frame default resolution: (\" + str(cap.get(cv.CV_CAP_PROP_FRAME_WIDTH)) + \"; \" + str(cap.get(cv.CV_CAP_PROP_FRAME_HEIGHT)) + \")\" \n",
    "cap.set(cv.CV_CAP_PROP_FRAME_WIDTH, 800) \n",
    "cap.set(cv.CV_CAP_PROP_FRAME_HEIGHT, 600) \n",
    "print \"Frame resolution set to: (\" + str(cap.get(cv.CV_CAP_PROP_FRAME_WIDTH)) + \"; \" + str(cap.get(cv.CV_CAP_PROP_FRAME_HEIGHT)) + \")\" \n",
    "\n",
    "# Acquire frame \n",
    "capture = cv.CreateCameraCapture(0) \n",
    "img = cv.QueryFrame(capture) "
   ]
  },
  {
   "cell_type": "code",
   "execution_count": null,
   "metadata": {},
   "outputs": [],
   "source": []
  },
  {
   "cell_type": "code",
   "execution_count": null,
   "metadata": {},
   "outputs": [],
   "source": []
  }
 ],
 "metadata": {
  "kernelspec": {
   "display_name": "Python 3",
   "language": "python",
   "name": "python3"
  },
  "language_info": {
   "codemirror_mode": {
    "name": "ipython",
    "version": 3
   },
   "file_extension": ".py",
   "mimetype": "text/x-python",
   "name": "python",
   "nbconvert_exporter": "python",
   "pygments_lexer": "ipython3",
   "version": "3.7.0"
  }
 },
 "nbformat": 4,
 "nbformat_minor": 2
}
