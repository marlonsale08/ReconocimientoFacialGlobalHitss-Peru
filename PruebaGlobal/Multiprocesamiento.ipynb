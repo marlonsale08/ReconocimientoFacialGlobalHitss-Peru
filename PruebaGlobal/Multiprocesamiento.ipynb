{
 "cells": [
  {
   "cell_type": "code",
   "execution_count": 1,
   "metadata": {},
   "outputs": [
    {
     "name": "stdout",
     "output_type": "stream",
     "text": [
      "HOLA CLASE COMO ESTAN\n",
      "HOLA CLASE COMO ESTAN\n",
      "HOLA CLASE COMO ESTAN\n",
      "HOLA CLASE COMO ESTAN\n",
      "HOLA CLASE COMO ESTAN\n",
      "HOLA CLASE COMO ESTAN\n",
      "HOLA CLASE COMO ESTAN\n",
      "HOLA CLASE COMO ESTAN\n",
      "HOLA CLASE COMO ESTAN\n"
     ]
    },
    {
     "ename": "TypeError",
     "evalue": "unsupported operand type(s) for +: 'Future' and 'int'",
     "output_type": "error",
     "traceback": [
      "\u001b[0;31m---------------------------------------------------------------------------\u001b[0m",
      "\u001b[0;31mTypeError\u001b[0m                                 Traceback (most recent call last)",
      "\u001b[0;32m<ipython-input-1-a2571d783417>\u001b[0m in \u001b[0;36m<module>\u001b[0;34m\u001b[0m\n\u001b[1;32m     25\u001b[0m             \u001b[0mh\u001b[0m\u001b[0;34m=\u001b[0m\u001b[0mexecutor\u001b[0m\u001b[0;34m.\u001b[0m\u001b[0msubmit\u001b[0m\u001b[0;34m(\u001b[0m\u001b[0mfuncion\u001b[0m\u001b[0;34m,\u001b[0m\u001b[0mgetCadena\u001b[0m\u001b[0;34m(\u001b[0m\u001b[0;34m\"HOLA CLASE COMO ESTAN\"\u001b[0m\u001b[0;34m)\u001b[0m\u001b[0;34m)\u001b[0m\u001b[0;34m\u001b[0m\u001b[0;34m\u001b[0m\u001b[0m\n\u001b[1;32m     26\u001b[0m             \u001b[0mi\u001b[0m\u001b[0;34m=\u001b[0m\u001b[0mexecutor\u001b[0m\u001b[0;34m.\u001b[0m\u001b[0msubmit\u001b[0m\u001b[0;34m(\u001b[0m\u001b[0mfuncion\u001b[0m\u001b[0;34m,\u001b[0m\u001b[0mgetCadena\u001b[0m\u001b[0;34m(\u001b[0m\u001b[0;34m\"HOLA CLASE COMO ESTAN\"\u001b[0m\u001b[0;34m)\u001b[0m\u001b[0;34m)\u001b[0m\u001b[0;34m\u001b[0m\u001b[0;34m\u001b[0m\u001b[0m\n\u001b[0;32m---> 27\u001b[0;31m             \u001b[0mi\u001b[0m\u001b[0;34m=\u001b[0m\u001b[0mi\u001b[0m\u001b[0;34m+\u001b[0m\u001b[0;36m1\u001b[0m\u001b[0;34m\u001b[0m\u001b[0;34m\u001b[0m\u001b[0m\n\u001b[0m\u001b[1;32m     28\u001b[0m \u001b[0;34m\u001b[0m\u001b[0m\n",
      "\u001b[0;31mTypeError\u001b[0m: unsupported operand type(s) for +: 'Future' and 'int'"
     ]
    }
   ],
   "source": [
    "import concurrent.futures\n",
    "import time\n",
    "import os\n",
    "\n",
    "def getCadena(cadena):\n",
    "    return cadena\n",
    "\n",
    "def funcion(cadena):\n",
    "    time.sleep(1)\n",
    "    print(cadena)\n",
    "\n",
    "\n",
    "if __name__=='__main__':\n",
    "    \n",
    "    while True:    \n",
    "        with concurrent.futures.ThreadPoolExecutor(max_workers=20) as executor:\n",
    "            \n",
    "            a=executor.submit(funcion,getCadena(\"HOLA CLASE COMO ESTAN\"))\n",
    "            b=executor.submit(funcion,getCadena(\"HOLA CLASE COMO ESTAN\"))\n",
    "            c=executor.submit(funcion,getCadena(\"HOLA CLASE COMO ESTAN\"))\n",
    "            d=executor.submit(funcion,getCadena(\"HOLA CLASE COMO ESTAN\"))\n",
    "            e=executor.submit(funcion,getCadena(\"HOLA CLASE COMO ESTAN\"))\n",
    "            f=executor.submit(funcion,getCadena(\"HOLA CLASE COMO ESTAN\"))\n",
    "            g=executor.submit(funcion,getCadena(\"HOLA CLASE COMO ESTAN\"))\n",
    "            h=executor.submit(funcion,getCadena(\"HOLA CLASE COMO ESTAN\"))\n",
    "            i=executor.submit(funcion,getCadena(\"HOLA CLASE COMO ESTAN\"))\n",
    "            i=i+1\n",
    "    "
   ]
  },
  {
   "cell_type": "code",
   "execution_count": null,
   "metadata": {},
   "outputs": [],
   "source": []
  },
  {
   "cell_type": "code",
   "execution_count": null,
   "metadata": {},
   "outputs": [],
   "source": []
  },
  {
   "cell_type": "code",
   "execution_count": null,
   "metadata": {},
   "outputs": [],
   "source": []
  },
  {
   "cell_type": "code",
   "execution_count": null,
   "metadata": {},
   "outputs": [],
   "source": []
  },
  {
   "cell_type": "code",
   "execution_count": null,
   "metadata": {},
   "outputs": [],
   "source": []
  },
  {
   "cell_type": "code",
   "execution_count": null,
   "metadata": {},
   "outputs": [],
   "source": []
  },
  {
   "cell_type": "code",
   "execution_count": null,
   "metadata": {},
   "outputs": [],
   "source": []
  }
 ],
 "metadata": {
  "kernelspec": {
   "display_name": "Python 3",
   "language": "python",
   "name": "python3"
  },
  "language_info": {
   "codemirror_mode": {
    "name": "ipython",
    "version": 3
   },
   "file_extension": ".py",
   "mimetype": "text/x-python",
   "name": "python",
   "nbconvert_exporter": "python",
   "pygments_lexer": "ipython3",
   "version": "3.7.2"
  }
 },
 "nbformat": 4,
 "nbformat_minor": 2
}
